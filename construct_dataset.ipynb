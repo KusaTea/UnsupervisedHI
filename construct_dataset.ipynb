{
 "cells": [
  {
   "cell_type": "code",
   "execution_count": null,
   "metadata": {},
   "outputs": [],
   "source": [
    "import pandas as pd\n",
    "from numpy import NaN"
   ]
  },
  {
   "cell_type": "code",
   "execution_count": null,
   "metadata": {},
   "outputs": [],
   "source": [
    "# Load train dataset\n",
    "\n",
    "fd_train = pd.read_csv('../datasets/train_FD001.txt', sep=\" \", header=None)"
   ]
  },
  {
   "cell_type": "code",
   "execution_count": null,
   "metadata": {},
   "outputs": [],
   "source": [
    "# Load test dataset\n",
    "\n",
    "fd_test = pd.read_csv('../datasets/test_FD001.txt', sep=\" \", header=None)"
   ]
  },
  {
   "cell_type": "code",
   "execution_count": null,
   "metadata": {},
   "outputs": [],
   "source": [
    "# Change columns names\n",
    "\n",
    "names_col=['unit_number', 'time_cycles', 'setting_1', 'setting_2','setting_3']\n",
    "for i in range (len(fd_train.columns)-5):\n",
    "  names_col.append('s_' + str(i+1))\n",
    "\n",
    "fd_train.columns = names_col\n",
    "fd_test.columns = names_col"
   ]
  },
  {
   "cell_type": "code",
   "execution_count": null,
   "metadata": {},
   "outputs": [],
   "source": [
    "# Remove settings columns, because it is redundant information for model\n",
    "\n",
    "fd_train.drop(columns = ['setting_1','setting_2','setting_3'], inplace = True)\n",
    "fd_test.drop(columns = ['setting_1','setting_2','setting_3'], inplace = True)"
   ]
  },
  {
   "cell_type": "code",
   "execution_count": null,
   "metadata": {},
   "outputs": [],
   "source": [
    "# Search and delete constant features\n",
    "\n",
    "fd_descr = fd_train.loc[:,'s_1':].describe().transpose()\n",
    "\n",
    "zer_std = []\n",
    "\n",
    "for i, row in fd_descr.iterrows():\n",
    "  if fd_descr['std'][i] < 1e-10:\n",
    "    zer_std.append(i)\n",
    "  elif fd_descr['count'][i] == 0:\n",
    "    zer_std.append(i)\n",
    "\n",
    "fd_train.drop(columns = zer_std, inplace = True)\n",
    "fd_test.drop(columns = zer_std, inplace = True)"
   ]
  },
  {
   "cell_type": "code",
   "execution_count": null,
   "metadata": {},
   "outputs": [],
   "source": [
    "# Create Remaining Useful Life column for train dataset\n",
    "\n",
    "fd_train_cycles = fd_train[[\"unit_number\",\"time_cycles\"]]\n",
    "max_cycles = fd_train_cycles.groupby('unit_number').max()\n",
    "max_cycles['unit_number'] = max_cycles.index\n",
    "fd_train['RUL'] = fd_train.groupby('unit_number')['time_cycles'].transform(max)\n",
    "\n",
    "for i in range(0,len(fd_train)):\n",
    "  if fd_train['RUL'].loc[i] - fd_train['time_cycles'].loc[i] > 124:\n",
    "    fd_train['RUL'].loc[i] = 125\n",
    "  else:\n",
    "    fd_train['RUL'].loc[i] = fd_train['RUL'].loc[i] - fd_train['time_cycles'].loc[i]"
   ]
  },
  {
   "cell_type": "code",
   "execution_count": null,
   "metadata": {},
   "outputs": [],
   "source": [
    "# # Create Remaining Useful Life column for test dataset\n",
    "\n",
    "with open('../datasets/RUL_FD001.txt', 'r') as f:\n",
    "    true_ruls = [int(row.strip()) for row in f]\n",
    "\n",
    "ruls = list()\n",
    "\n",
    "for machine_id in fd_test['unit_number'].unique():\n",
    "    length = fd_test[fd_test['unit_number'] == machine_id].shape[0]\n",
    "    rul = true_ruls[machine_id-1]\n",
    "    ruls += sorted([rul + inc for inc in range(length)], reverse=True)\n",
    "\n",
    "fd_test['RUL'] = ruls"
   ]
  },
  {
   "cell_type": "code",
   "execution_count": null,
   "metadata": {},
   "outputs": [],
   "source": [
    "# Save clean datasets\n",
    "\n",
    "fd_train.to_csv(r'../datasets/clean_train_data.csv', index = False, header = True)\n",
    "fd_test.to_csv(r'../datasets/clean_test_data.csv', index = False, header = True)"
   ]
  },
  {
   "cell_type": "code",
   "execution_count": null,
   "metadata": {},
   "outputs": [],
   "source": []
  }
 ],
 "metadata": {
  "kernelspec": {
   "display_name": "venv",
   "language": "python",
   "name": "python3"
  },
  "language_info": {
   "codemirror_mode": {
    "name": "ipython",
    "version": 3
   },
   "file_extension": ".py",
   "mimetype": "text/x-python",
   "name": "python",
   "nbconvert_exporter": "python",
   "pygments_lexer": "ipython3",
   "version": "3.9.13"
  },
  "orig_nbformat": 4
 },
 "nbformat": 4,
 "nbformat_minor": 2
}
