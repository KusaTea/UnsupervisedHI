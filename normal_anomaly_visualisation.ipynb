{
 "cells": [
  {
   "cell_type": "code",
   "execution_count": null,
   "metadata": {},
   "outputs": [],
   "source": [
    "import pandas as pd\n",
    "\n",
    "import torch\n",
    "from torch.utils.data import DataLoader\n",
    "\n",
    "from himodule.normalisation import MinMaxScaler, StandardScaler\n",
    "from himodule.secondary_funcs import save_object, load_object, check_path, split_dataset, \\\n",
    "    seed_everything, split_anomaly_normal, split_anomaly_normal23\n",
    "from himodule.custom_classes import NasaDataset, AnomalyLoader, SimpleAE\n",
    "\n",
    "import os\n",
    "\n",
    "import matplotlib.pyplot as plt\n",
    "import seaborn as sns"
   ]
  },
  {
   "cell_type": "code",
   "execution_count": null,
   "metadata": {},
   "outputs": [],
   "source": [
    "device = \"cuda\" if torch.cuda.is_available() else \"cpu\"\n",
    "print(f'{device=}')"
   ]
  },
  {
   "cell_type": "code",
   "execution_count": null,
   "metadata": {},
   "outputs": [],
   "source": [
    "SEED = 37"
   ]
  },
  {
   "cell_type": "code",
   "execution_count": null,
   "metadata": {},
   "outputs": [],
   "source": [
    "train_dataset = NasaDataset('../datasets/clean_train_data.csv')\n",
    "train_dataset, anomaly_dataset = split_anomaly_normal(train_dataset)\n",
    "\n",
    "scaler_path = '../scalers/MinMaxScaler.pkl'\n",
    "scaler = load_object('../scalers/MinMaxScaler.pkl')\n",
    "try:\n",
    "    norm_name = repr(scaler).split(' ', maxsplit=2)[0].split('.')[-1]\n",
    "except IndexError:\n",
    "    norm_name = 'no_scaling'\n",
    "for idx, dtset in enumerate((train_dataset, anomaly_dataset)):\n",
    "    dtset.to(device)\n",
    "    if scaler:\n",
    "        if idx == 0:\n",
    "            scaler.fit(dtset.dataset)\n",
    "        dtset.dataset = scaler.transform(dtset.dataset)\n",
    "\n",
    "seed_everything(SEED)\n",
    "g = torch.Generator()\n",
    "g.manual_seed(SEED)\n",
    "train_loader = DataLoader(train_dataset, batch_size=20, shuffle=True, worker_init_fn=SEED, generator=g)\n",
    "seed_everything(SEED)\n",
    "\n",
    "seed_everything(SEED)\n",
    "anomaly_loader = AnomalyLoader(anomaly_dataset, batch_size=20)\n",
    "\n",
    "print(f'Train: {len(train_dataset)}')\n",
    "print(f'Anomaly: {len(anomaly_dataset)}')"
   ]
  },
  {
   "cell_type": "code",
   "execution_count": null,
   "metadata": {},
   "outputs": [],
   "source": [
    "models_path = '../Models/norm-anom/'\n",
    "layers_sizes = (8, 4, 2)\n",
    "\n",
    "model_ae = SimpleAE(train_dataset.get_input_shape(), layers_sizes=layers_sizes)\n",
    "model_ae.load_state_dict(torch.load(os.path.join(models_path, f'{layers_sizes}.pth')))\n",
    "model_ae.to(device)"
   ]
  },
  {
   "cell_type": "code",
   "execution_count": null,
   "metadata": {},
   "outputs": [],
   "source": [
    "def get_visualisation_data(model: SimpleAE, train_dataset: NasaDataset, anomaly_dataset: NasaDataset, n_cycles: int):\n",
    "    g = torch.Generator()\n",
    "    g.manual_seed(SEED)\n",
    "    seed_everything(SEED)\n",
    "    normal_data = train_dataset[torch.randperm(len(train_dataset), generator=g)[:n_cycles]]['sensors']\n",
    "    seed_everything(SEED)\n",
    "    anomaly_data = anomaly_dataset[torch.randperm(len(anomaly_dataset), generator=g)[:n_cycles]]['sensors']\n",
    "\n",
    "    with torch.no_grad():\n",
    "        _, normal_reconstruction = model(normal_data)\n",
    "        _, anomaly_reconstruction = model(anomaly_data)\n",
    "        normal_reconstruction = scaler.inverse_transform(normal_reconstruction)\n",
    "        anomaly_reconstruction = scaler.inverse_transform(anomaly_reconstruction)\n",
    "\n",
    "    columns = [i+1 for i in range(normal_reconstruction.shape[1])]\n",
    "    normal_df = pd.DataFrame(normal_reconstruction.cpu(), columns=columns).melt()\n",
    "    normal_df['type'] = 'normal'\n",
    "    anomaly_df = pd.DataFrame(anomaly_reconstruction.cpu(), columns=columns).melt()\n",
    "    anomaly_df['type'] = 'anomaly'\n",
    "    df = pd.concat((normal_df, anomaly_df), axis=0)\n",
    "    return df\n",
    "\n",
    "\n",
    "def make_plot(df: pd.DataFrame, n_cycles: int, title: str, save_path: str = None):\n",
    "    plt.close()\n",
    "    fig, axes = plt.subplots(4, 4)\n",
    "    fig.set_size_inches(10, 10)\n",
    "\n",
    "    for ax, sensor_id in zip(axes.flatten(), df['variable'].unique()):\n",
    "        \n",
    "        sns.stripplot(data=df[df['variable'] == sensor_id],\n",
    "                    x='variable',\n",
    "                    y='value',\n",
    "                    hue='type',\n",
    "                    palette=['g', 'r'],\n",
    "                    dodge=True,\n",
    "                    ax=ax,\n",
    "                    zorder=0)\n",
    "        \n",
    "        sns.boxplot(data=df[df['variable'] == sensor_id],\n",
    "                    x='variable',\n",
    "                    y='value',\n",
    "                    hue='type',\n",
    "                    boxprops={\"facecolor\": (0, 0, 0, 0)},\n",
    "                    showfliers=False,\n",
    "                    ax=ax,\n",
    "                    zorder=1)\n",
    "\n",
    "        ax.set_ylabel(None)\n",
    "        ax.set_xlabel(None)\n",
    "        ax.get_legend().remove()\n",
    "\n",
    "    fig.suptitle(title)\n",
    "\n",
    "    plt.tight_layout()\n",
    "    if save_path:\n",
    "        plt.savefig(os.path.join(save_path, f'{n_cycles}.png'))\n",
    "    plt.show()"
   ]
  },
  {
   "cell_type": "code",
   "execution_count": null,
   "metadata": {},
   "outputs": [],
   "source": [
    "plot_path = '../Plots/reconstruction_visualisation/'\n",
    "check_path(plot_path)\n",
    "\n",
    "for n_cycles in (10, 50, 100, 150, 200, 250, 300, 350, 400, 450, 1000, 2000, 5000):\n",
    "    df = get_visualisation_data(model_ae, train_dataset, anomaly_dataset, n_cycles)\n",
    "    title = f'Number of cycles: {n_cycles}'\n",
    "    make_plot(df, n_cycles, title=title, save_path=plot_path)"
   ]
  }
 ],
 "metadata": {
  "kernelspec": {
   "display_name": "venv",
   "language": "python",
   "name": "python3"
  },
  "language_info": {
   "codemirror_mode": {
    "name": "ipython",
    "version": 3
   },
   "file_extension": ".py",
   "mimetype": "text/x-python",
   "name": "python",
   "nbconvert_exporter": "python",
   "pygments_lexer": "ipython3",
   "version": "3.9.13"
  },
  "orig_nbformat": 4
 },
 "nbformat": 4,
 "nbformat_minor": 2
}
