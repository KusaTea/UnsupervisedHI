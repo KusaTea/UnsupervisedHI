{
 "cells": [
  {
   "cell_type": "code",
   "execution_count": 1,
   "metadata": {},
   "outputs": [],
   "source": [
    "import numpy as np\n",
    "from scipy.interpolate import splrep, splev\n",
    "from himodule.secondary_funcs import check_path\n",
    "import glob\n",
    "import os\n",
    "import matplotlib.pyplot as plt\n",
    "\n",
    "def smooth_spline(vector_np, smooth_factor=0.5):\n",
    "    \n",
    "    # Indeces of array\n",
    "    indices = np.arange(len(vector_np))\n",
    "    \n",
    "    # Spline for curve\n",
    "    tck = splrep(indices, vector_np, s=6, k=3)\n",
    "    \n",
    "    # New values vy spline\n",
    "    interpolated = splev(indices, tck)\n",
    "    \n",
    "    return interpolated"
   ]
  },
  {
   "cell_type": "code",
   "execution_count": 6,
   "metadata": {},
   "outputs": [],
   "source": [
    "smooth_path = '../Smoothed/'\n",
    "for sample_type in ('train', 'test'):\n",
    "    check_path(os.path.join(smooth_path, sample_type))\n",
    "\n",
    "hi_path = '../HIs/'\n",
    "\n",
    "for path in glob.glob(os.path.join(hi_path, '*/*.dat')):\n",
    "\n",
    "    # Load vector\n",
    "    input_vector = np.fromfile(path, dtype=np.float32)\n",
    "\n",
    "    # Do interpolation\n",
    "    smoothed_spline = smooth_spline(input_vector)\n",
    "\n",
    "    # plt.close()\n",
    "    # plt.plot(input_vector)\n",
    "    # plt.plot(smoothed_spline)\n",
    "    # plt.show()\n",
    "\n",
    "    # Save new vector\n",
    "    smoothed_spline.tofile(os.path.join(smooth_path, path.split('\\\\', maxsplit=1)[-1]))"
   ]
  }
 ],
 "metadata": {
  "kernelspec": {
   "display_name": "venv",
   "language": "python",
   "name": "python3"
  },
  "language_info": {
   "codemirror_mode": {
    "name": "ipython",
    "version": 3
   },
   "file_extension": ".py",
   "mimetype": "text/x-python",
   "name": "python",
   "nbconvert_exporter": "python",
   "pygments_lexer": "ipython3",
   "version": "3.9.13"
  },
  "orig_nbformat": 4
 },
 "nbformat": 4,
 "nbformat_minor": 2
}
