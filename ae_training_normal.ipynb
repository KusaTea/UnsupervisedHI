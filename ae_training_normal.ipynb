{
 "cells": [
  {
   "cell_type": "code",
   "execution_count": 1,
   "metadata": {},
   "outputs": [],
   "source": [
    "import torch\n",
    "from torch import nn, optim\n",
    "from torch.utils.data import DataLoader\n",
    "from statistics import mean\n",
    "\n",
    "import numpy as np\n",
    "import pandas as pd\n",
    "import matplotlib.pyplot as plt\n",
    "import seaborn as sns\n",
    "\n",
    "from custom_classes import NasaDataset, SimpleAE, split_dataset, seed_everything, split_anomaly_normal\n",
    "from ae_metrics import MAPE\n",
    "from rul_metrics import RMSELoss\n",
    "from normalisation import standard_scaling, min_max_scaling\n",
    "\n",
    "import os"
   ]
  },
  {
   "cell_type": "code",
   "execution_count": 2,
   "metadata": {},
   "outputs": [
    {
     "name": "stdout",
     "output_type": "stream",
     "text": [
      "device='cuda'\n"
     ]
    }
   ],
   "source": [
    "device = \"cuda\" if torch.cuda.is_available() else \"cpu\"\n",
    "print(f'{device=}')"
   ]
  },
  {
   "cell_type": "markdown",
   "metadata": {},
   "source": [
    "### Training"
   ]
  },
  {
   "cell_type": "code",
   "execution_count": 3,
   "metadata": {},
   "outputs": [
    {
     "name": "stdout",
     "output_type": "stream",
     "text": [
      "Train: 5473\n",
      "Validation: 1840\n",
      "Test: 818\n",
      "Anomaly: 12500\n"
     ]
    }
   ],
   "source": [
    "seed = 37\n",
    "\n",
    "train_dataset = NasaDataset('../datasets/clean_train_data.csv')\n",
    "train_dataset, anomaly_dataset = split_anomaly_normal(train_dataset)\n",
    "seed_everything(seed)\n",
    "train_dataset, test_dataset = split_dataset(train_dataset, test_size=0.1)\n",
    "seed_everything(seed)\n",
    "train_dataset, val_dataset = split_dataset(train_dataset, test_size=0.3)\n",
    "# test_dataset = NasaDataset('../datasets/test.csv')\n",
    "\n",
    "norm_func = min_max_scaling\n",
    "try:\n",
    "    norm_name = repr(norm_func).split(' ', maxsplit=2)[1]\n",
    "except IndexError:\n",
    "    norm_name = 'no_scaling'\n",
    "for dtset in (train_dataset, val_dataset, test_dataset, anomaly_dataset):\n",
    "    dtset.to(device)\n",
    "    if norm_func:\n",
    "        norm_func(dtset)\n",
    "\n",
    "seed_everything(seed)\n",
    "g = torch.Generator()\n",
    "g.manual_seed(seed)\n",
    "train_loader = DataLoader(train_dataset, batch_size=20, shuffle=True, worker_init_fn=seed, generator=g)\n",
    "seed_everything(seed)\n",
    "test_loader = DataLoader(val_dataset, batch_size=20, shuffle=True, worker_init_fn=seed, generator=g)\n",
    "seed_everything(seed)\n",
    "val_loader = DataLoader(train_dataset, batch_size=20, shuffle=True, worker_init_fn=seed, generator=g)\n",
    "seed_everything(seed)\n",
    "anomaly_loader = DataLoader(anomaly_dataset, batch_size=20, shuffle=True, worker_init_fn=seed, generator=g)\n",
    "# test_loader = DataLoader(test_dataset, batch_size=..., shuffle=...)\n",
    "print(f'Train: {len(train_dataset)}\\nValidation: {len(val_dataset)}\\nTest: {len(test_dataset)}')\n",
    "print(f'Anomaly: {len(anomaly_dataset)}')\n",
    "\n",
    "input_shape = train_dataset.get_input_shape()\n",
    "layers_sizes = (8, 4, 2)\n",
    "\n",
    "seed_everything(seed)\n",
    "model_ae = SimpleAE(input_shape, layers_sizes).to(device)\n",
    "loss_func = nn.MSELoss()\n",
    "metric_func = MAPE()\n",
    "optimiser = optim.AdamW(model_ae.parameters(),\n",
    "                       lr=1e-3)\n",
    "optimiser_name = repr(optimiser).split(' ', maxsplit=1)[0]"
   ]
  },
  {
   "cell_type": "code",
   "execution_count": 4,
   "metadata": {},
   "outputs": [],
   "source": [
    "def plot_history(history_df: pd.DataFrame, ylabel: str = None, save_path: str = None):\n",
    "    history_df = history_df.melt(ignore_index=False).iloc[1:]\n",
    "    fig, ax = plt.subplots()\n",
    "    fig.set_size_inches(10, 5)\n",
    "    sns.lineplot(data=history_df,\n",
    "                x=history_df.index,\n",
    "                y='value',\n",
    "                hue='variable')\n",
    "\n",
    "    ax.set_ylabel(ylabel)\n",
    "\n",
    "    plt.tight_layout()\n",
    "    if save_path:\n",
    "        plt.savefig(save_path)\n",
    "    plt.show()"
   ]
  },
  {
   "cell_type": "code",
   "execution_count": 5,
   "metadata": {},
   "outputs": [],
   "source": [
    "def check_path(pth):\n",
    "    if not os.path.exists(pth):\n",
    "        os.makedirs(pth)\n",
    "    return pth"
   ]
  },
  {
   "cell_type": "code",
   "execution_count": 6,
   "metadata": {},
   "outputs": [
    {
     "name": "stdout",
     "output_type": "stream",
     "text": [
      " 10/100: train_loss=0.0218, val_loss=0.0208, train_metrics=inf%, val_metrics=inf%\n",
      " 20/100: train_loss=0.0131, val_loss=0.0131, train_metrics=inf%, val_metrics=inf%\n",
      " 30/100: train_loss=0.0124, val_loss=0.0123, train_metrics=inf%, val_metrics=inf%\n",
      " 40/100: train_loss=0.0120, val_loss=0.0120, train_metrics=inf%, val_metrics=inf%\n",
      " 50/100: train_loss=0.0118, val_loss=0.0118, train_metrics=inf%, val_metrics=inf%\n",
      " 60/100: train_loss=0.0118, val_loss=0.0118, train_metrics=inf%, val_metrics=inf%\n",
      " 70/100: train_loss=0.0118, val_loss=0.0118, train_metrics=inf%, val_metrics=inf%\n",
      " 80/100: train_loss=0.0118, val_loss=0.0118, train_metrics=inf%, val_metrics=inf%\n",
      " 90/100: train_loss=0.0118, val_loss=0.0118, train_metrics=inf%, val_metrics=inf%\n",
      "100/100: train_loss=0.0118, val_loss=0.0118, train_metrics=inf%, val_metrics=inf%\n",
      "\n",
      "test_loss=0.0154, test_metrics=inf%\n",
      "\n",
      "anomaly_loss=0.0201, anomaly_metric=inf%\n"
     ]
    }
   ],
   "source": [
    "epochs = 100\n",
    "history = list()\n",
    "\n",
    "for epoch in range(epochs):\n",
    "    train_losses = list()\n",
    "    train_metrics = list()\n",
    "    for dta in train_loader:\n",
    "        sample = dta['sensors']\n",
    "        sample = sample.to(device)\n",
    "        _, reconstruction = model_ae(sample)\n",
    "\n",
    "        loss = loss_func(reconstruction, sample)\n",
    "        metric = metric_func(reconstruction, sample)\n",
    "\n",
    "        optimiser.zero_grad()\n",
    "        loss.backward()\n",
    "        optimiser.step()\n",
    "\n",
    "        train_losses.append(loss.item())\n",
    "        train_metrics.append(metric.item())\n",
    "    \n",
    "    with torch.no_grad():\n",
    "        val_losses = list()\n",
    "        val_metrics = list()\n",
    "        for dta in val_loader:\n",
    "            sample = dta['sensors']\n",
    "            sample = sample.to(device)\n",
    "            _, reconstruction = model_ae(sample)\n",
    "\n",
    "            loss = loss_func(reconstruction, sample)\n",
    "            metric = metric_func(reconstruction, sample)\n",
    "\n",
    "            val_losses.append(loss.item())\n",
    "            val_metrics.append(metric.item())\n",
    "    \n",
    "    train_loss, val_loss = mean(train_losses), mean(val_losses)\n",
    "    train_metrics, val_metrics = mean(train_metrics), mean(val_metrics)\n",
    "    history.append((epoch, train_loss, val_loss, train_metrics, val_metrics))\n",
    "    if (epoch + 1) % 10 == 0 or epoch == epochs - 1:\n",
    "        print(f'{epoch+1:>3}/{epochs:>3}: {train_loss=:.4f}, {val_loss=:.4f}, {train_metrics=:.4f}%, {val_metrics=:.4f}%')\n",
    "\n",
    "with torch.no_grad():\n",
    "    test_losses = list()\n",
    "    test_metrics = list()\n",
    "    for dta in test_loader:\n",
    "        sample = dta['sensors']\n",
    "        sample = sample.to(device)\n",
    "        _, reconstruction = model_ae(sample)\n",
    "        loss = loss_func(reconstruction, sample)\n",
    "        metric = metric_func(reconstruction, sample)\n",
    "        test_losses.append(loss.item())\n",
    "        test_metrics.append(metric.item())\n",
    "    test_loss = mean(test_losses)\n",
    "    test_metrics = mean(test_metrics)\n",
    "    print(f'\\n{test_loss=:.4f}, {test_metrics=:.4f}%')\n",
    "\n",
    "\n",
    "with torch.no_grad():\n",
    "    anomaly_losses = list()\n",
    "    anomaly_metrics = list()\n",
    "    for dta in anomaly_loader:\n",
    "        sample = dta['sensors']\n",
    "        sample = sample.to(device)\n",
    "        _, reconstruction = model_ae(sample)\n",
    "        loss = loss_func(reconstruction, sample)\n",
    "        metric = metric_func(reconstruction, sample)\n",
    "        anomaly_losses.append(loss.item())\n",
    "        anomaly_metrics.append(metric.item())\n",
    "    anomaly_loss = mean(anomaly_losses)\n",
    "    anomaly_metric = mean(anomaly_metrics)\n",
    "    print(f'\\n{anomaly_loss=:.4f}, {anomaly_metric=:.4f}%')\n",
    "\n",
    "# -------------------------------------------------- #\n",
    "name = str(layers_sizes)\n",
    "models_path = '../Models/'\n",
    "plot_path = '../Plots/history/'\n",
    "\n",
    "\n",
    "if False:\n",
    "    pth = check_path(os.path.join(models_path, optimiser_name, norm_name))\n",
    "    torch.save(model_ae.state_dict(), os.path.join(pth, f'{name}.pth'))\n",
    "\n",
    "if False:\n",
    "    columns = ('epoch', 'train_loss', 'val_loss', 'train_metric', 'val_metric')\n",
    "    total_history_df = pd.DataFrame(history, columns=columns).set_index('epoch')\n",
    "\n",
    "    history_df = total_history_df.loc[:,('train_loss', 'val_loss')]\n",
    "    pth = check_path(os.path.join(plot_path, optimiser_name, 'loss', norm_name))\n",
    "    plot_history(history_df, ylabel='MSE', save_path=os.path.join(pth, f'{name}.png'))\n",
    "\n",
    "    pth = check_path(os.path.join(plot_path, optimiser_name, 'metric', norm_name))\n",
    "    history_df = total_history_df.loc[:,('train_metric', 'val_metric')]\n",
    "    plot_history(history_df, ylabel='MAPE', save_path=os.path.join(pth, f'{name}.png'))"
   ]
  },
  {
   "cell_type": "code",
   "execution_count": 26,
   "metadata": {},
   "outputs": [],
   "source": [
    "columns = ('epoch', 'train_loss', 'val_loss', 'train_metric', 'val_metric')\n",
    "total_history_df = pd.DataFrame(history, columns=columns).set_index('epoch')\n",
    "\n",
    "history_df = total_history_df.loc[:,('train_loss', 'val_loss')].iloc[1:].melt(ignore_index=False)\n",
    "\n",
    "anomaly_losses_transfromed = np.array(anomaly_losses)[:600].reshape(-1, 6).mean(axis=1)[:-1]"
   ]
  },
  {
   "cell_type": "code",
   "execution_count": 28,
   "metadata": {},
   "outputs": [
    {
     "data": {
      "image/png": "[encoded data removed]",
      "text/plain": [
       "<Figure size 1000x500 with 1 Axes>"
      ]
     },
     "metadata": {},
     "output_type": "display_data"
    }
   ],
   "source": [
    "plt.close()\n",
    "fig, ax = plt.subplots()\n",
    "fig.set_size_inches(10, 5)\n",
    "\n",
    "sns.lineplot(data=history_df,\n",
    "             x=history_df.index,\n",
    "             y='value',\n",
    "             hue='variable',\n",
    "             ax=ax)\n",
    "\n",
    "ax.plot(anomaly_losses_transfromed, color='k', label='anomaly')\n",
    "ax.legend()\n",
    "\n",
    "ax.set_ylabel('MSE')\n",
    "\n",
    "plt.tight_layout()\n",
    "plt.savefig('../Plots/history/AdamW/norm-anom.png')\n",
    "plt.show()"
   ]
  }
 ],
 "metadata": {
  "kernelspec": {
   "display_name": "venv",
   "language": "python",
   "name": "python3"
  },
  "language_info": {
   "codemirror_mode": {
    "name": "ipython",
    "version": 3
   },
   "file_extension": ".py",
   "mimetype": "text/x-python",
   "name": "python",
   "nbconvert_exporter": "python",
   "pygments_lexer": "ipython3",
   "version": "3.9.13"
  },
  "orig_nbformat": 4
 },
 "nbformat": 4,
 "nbformat_minor": 2
}
