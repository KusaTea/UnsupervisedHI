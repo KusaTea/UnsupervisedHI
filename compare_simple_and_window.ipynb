{
 "cells": [
  {
   "cell_type": "code",
   "execution_count": null,
   "metadata": {},
   "outputs": [],
   "source": [
    "import torch\n",
    "from torch import nn\n",
    "from torch.utils.data import DataLoader\n",
    "from statistics import mean\n",
    "\n",
    "import numpy as np\n",
    "import pandas as pd\n",
    "import matplotlib.pyplot as plt\n",
    "import seaborn as sns\n",
    "\n",
    "from himodule.custom_classes import NasaDataset, WindowedLoader, AEConstructor, SimpleAE\n",
    "from himodule.normalisation import StandardScaler, MinMaxScaler\n",
    "from himodule.secondary_funcs import load_object, check_path, seed_everything\n",
    "\n",
    "from collections import defaultdict\n",
    "\n",
    "import os\n",
    "\n",
    "sns.set_theme(style='whitegrid', font_scale=1.2)"
   ]
  },
  {
   "cell_type": "code",
   "execution_count": null,
   "metadata": {},
   "outputs": [],
   "source": [
    "# Check for GPU availability\n",
    "\n",
    "device = \"cuda\" if torch.cuda.is_available() else \"cpu\"\n",
    "print(f'{device=}')"
   ]
  },
  {
   "cell_type": "markdown",
   "metadata": {},
   "source": [
    "### Training"
   ]
  },
  {
   "cell_type": "code",
   "execution_count": null,
   "metadata": {},
   "outputs": [],
   "source": [
    "seed = 37\n",
    "batch_size = 20\n",
    "window_size = 5\n",
    "\n",
    "# Test dataset loading\n",
    "test_dataset = NasaDataset('../datasets/clean_test_data.csv')\n",
    "\n",
    "scaler_path = '../scalers/MinMaxScaler.pkl'\n",
    "scaler = load_object('../scalers/MinMaxScaler.pkl')\n",
    "try:\n",
    "    norm_name = repr(scaler).split(' ', maxsplit=2)[0].split('.')[-1]\n",
    "except IndexError:\n",
    "    norm_name = 'no_scaling'\n",
    "\n",
    "test_dataset.to(device)\n",
    "test_dataset.dataset = scaler.transform(test_dataset.dataset)"
   ]
  },
  {
   "cell_type": "markdown",
   "metadata": {},
   "source": [
    "### Simple AE"
   ]
  },
  {
   "cell_type": "code",
   "execution_count": null,
   "metadata": {},
   "outputs": [],
   "source": [
    "models_path = '../Models/norm-anom/'\n",
    "layers_sizes = (8, 4, 2)\n",
    "\n",
    "simple_model = SimpleAE(test_dataset.get_input_shape(), layers_sizes=layers_sizes)\n",
    "simple_model.load_state_dict(torch.load(os.path.join(models_path, f'{layers_sizes}.pth')))\n",
    "simple_model = simple_model.to(device)\n",
    "loss_func = nn.MSELoss(reduction='none')"
   ]
  },
  {
   "cell_type": "code",
   "execution_count": null,
   "metadata": {},
   "outputs": [],
   "source": [
    "seed_everything(seed)\n",
    "g = torch.Generator()\n",
    "g.manual_seed(seed)\n",
    "simple_test_loader = DataLoader(test_dataset, batch_size=batch_size, generator=g, shuffle=False)"
   ]
  },
  {
   "cell_type": "code",
   "execution_count": null,
   "metadata": {},
   "outputs": [],
   "source": [
    "simple_losses = list()\n",
    "\n",
    "with torch.no_grad():\n",
    "    for dta in simple_test_loader:\n",
    "        sample = dta['sensors']\n",
    "        _, reconstruction = simple_model(sample)\n",
    "        loss = loss_func(reconstruction, sample)\n",
    "        simple_losses.append(loss.mean(dim=1))\n",
    "    \n",
    "simple_losses = torch.hstack(simple_losses)"
   ]
  },
  {
   "cell_type": "markdown",
   "metadata": {},
   "source": [
    "### Window AE"
   ]
  },
  {
   "cell_type": "code",
   "execution_count": null,
   "metadata": {},
   "outputs": [],
   "source": [
    "input_shape = test_dataset.get_input_shape()\n",
    "layers_sizes = (input_shape*window_size//2, input_shape*window_size//4, input_shape*window_size//8)\n",
    "models_path = f'../Models/window/{len(layers_sizes)+1}'\n",
    "\n",
    "window_model = AEConstructor(input_shape, window_size=window_size, layers_sizes=layers_sizes)\n",
    "window_model.load_state_dict(torch.load(os.path.join(models_path, f'{layers_sizes}.pth')))\n",
    "window_model = window_model.to(device)\n",
    "loss_func = nn.MSELoss(reduction='none')\n",
    "\n",
    "window_test_loader = WindowedLoader(test_dataset, batch_size=batch_size, window_size=window_size)"
   ]
  },
  {
   "cell_type": "code",
   "execution_count": null,
   "metadata": {},
   "outputs": [],
   "source": [
    "window_losses_dct = defaultdict(list)\n",
    "\n",
    "with torch.no_grad():\n",
    "    for dta in window_test_loader:\n",
    "        sample = dta['sensors']\n",
    "        indeces = dta['indeces'].flatten()\n",
    "        _, reconstruction = window_model(sample)\n",
    "        loss = loss_func(nn.Flatten()(reconstruction), nn.Flatten()(sample))\n",
    "        loss = loss.view(-1, window_size, input_shape).mean(dim=2).flatten()\n",
    "\n",
    "        for idx, ls in zip(indeces, loss):\n",
    "            window_losses_dct[idx.item()].append(ls.item())\n",
    "        \n",
    "window_losses = list()\n",
    "\n",
    "for id, lst in window_losses_dct.items():\n",
    "    window_losses.append(mean(lst))"
   ]
  },
  {
   "cell_type": "markdown",
   "metadata": {},
   "source": [
    "## Plots"
   ]
  },
  {
   "cell_type": "code",
   "execution_count": null,
   "metadata": {},
   "outputs": [],
   "source": [
    "def make_plot(df: pd.DataFrame, machine_id: int, save_path: str = None):\n",
    "    plt.close()\n",
    "    fig, ax = plt.subplots()\n",
    "    fig.set_size_inches(10, 5)\n",
    "\n",
    "    sns.lineplot(data=df,\n",
    "                 x=df.index,\n",
    "                 y='value',\n",
    "                 hue='variable',\n",
    "                 ax=ax)\n",
    "    \n",
    "    ax.set_ylabel('MSE')\n",
    "    ax.set_xlabel(None)\n",
    "    ax.set_title(f'Machine id: {machine_id}')\n",
    "\n",
    "    plt.tight_layout()\n",
    "    if save_path:\n",
    "        plt.savefig(save_path)"
   ]
  },
  {
   "cell_type": "code",
   "execution_count": null,
   "metadata": {},
   "outputs": [],
   "source": [
    "total_plot_df = pd.DataFrame((test_dataset.machine_ids.cpu().numpy(), simple_losses.cpu().numpy(), window_losses),\n",
    "                             index=('machine_id', 'simple_model', 'window_model')).T\n",
    "total_plot_df['machine_id'] = total_plot_df['machine_id'].astype(np.int16)"
   ]
  },
  {
   "cell_type": "code",
   "execution_count": null,
   "metadata": {},
   "outputs": [],
   "source": [
    "for machine_id in test_dataset.machine_ids.unique():\n",
    "    machine_id = int(machine_id.item())\n",
    "    plot_df = total_plot_df[total_plot_df['machine_id'] == machine_id].loc[:, 'simple_model':'window_model']\n",
    "    plot_df = plot_df.melt(ignore_index=False)\n",
    "\n",
    "    save_path = '../Plots/comparison_simple_window/'\n",
    "    check_path(save_path)\n",
    "\n",
    "    make_plot(plot_df, machine_id, save_path=os.path.join(save_path, f'{machine_id}.png'))"
   ]
  }
 ],
 "metadata": {
  "kernelspec": {
   "display_name": "venv",
   "language": "python",
   "name": "python3"
  },
  "language_info": {
   "codemirror_mode": {
    "name": "ipython",
    "version": 3
   },
   "file_extension": ".py",
   "mimetype": "text/x-python",
   "name": "python",
   "nbconvert_exporter": "python",
   "pygments_lexer": "ipython3",
   "version": "3.9.13"
  },
  "orig_nbformat": 4
 },
 "nbformat": 4,
 "nbformat_minor": 2
}
