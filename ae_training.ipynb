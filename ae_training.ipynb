{
 "cells": [
  {
   "cell_type": "code",
   "execution_count": 2,
   "metadata": {},
   "outputs": [],
   "source": [
    "import torch\n",
    "from torch import nn, optim\n",
    "from torch.utils.data import DataLoader\n",
    "from statistics import mean\n",
    "\n",
    "from custom_classes import NasaDataset, SimpleAE, split_dataset"
   ]
  },
  {
   "cell_type": "code",
   "execution_count": null,
   "metadata": {},
   "outputs": [],
   "source": [
    "device = \"cuda\" if torch.cuda.is_available() else \"cpu\"\n",
    "print(f'{device=}')"
   ]
  },
  {
   "cell_type": "markdown",
   "metadata": {},
   "source": [
    "### Training"
   ]
  },
  {
   "cell_type": "code",
   "execution_count": null,
   "metadata": {},
   "outputs": [],
   "source": [
    "train_dataset = NasaDataset('../datasets/train.csv')\n",
    "train_dataset, test_dataset = split_dataset(train_dataset, test_size=0.1)\n",
    "train_dataset, val_dataset = split_dataset(train_dataset, test_size=0.2)\n",
    "# test_dataset = NasaDataset('../datasets/test.csv')\n",
    "\n",
    "train_loader = DataLoader(train_dataset, batch_size=..., shuffle=...)\n",
    "test_loader = DataLoader(val_dataset, batch_size=..., shuffle=...)\n",
    "val_loader = DataLoader(train_dataset, batch_size=..., shuffle=...)\n",
    "# test_loader = DataLoader(test_dataset, batch_size=..., shuffle=...)\n",
    "\n",
    "input_shape = train_dataset.get_input_shape()\n",
    "layers_sizes = (..., ..., ...)\n",
    "\n",
    "model_ae = SimpleAE(input_shape, layers_sizes)\n",
    "loss_func = nn.MSELoss()\n",
    "optimiser = optim.Adam(model_ae.parameters(),\n",
    "                       lr=1e-3)"
   ]
  },
  {
   "cell_type": "code",
   "execution_count": null,
   "metadata": {},
   "outputs": [],
   "source": [
    "epochs = 100\n",
    "history = list()\n",
    "\n",
    "for epoch in range(epochs):\n",
    "    train_losses = list()\n",
    "    for (sample, _) in train_loader:\n",
    "        sample = sample.to(device)\n",
    "        _, reconstruction = model_ae(sample)\n",
    "\n",
    "        loss = loss_func(reconstruction, sample)\n",
    "\n",
    "        optimiser.zero_grad()\n",
    "        loss.backward()\n",
    "        optimiser.step()\n",
    "\n",
    "        train_losses.append(loss)\n",
    "    \n",
    "    with torch.no_grad():\n",
    "        val_losses = list()\n",
    "        for (sample, _) in val_loader:\n",
    "            sample = sample.to(device)\n",
    "            _, reconstruction = model_ae(sample)\n",
    "            loss = loss_func(reconstruction, sample)\n",
    "            val_losses.append(loss)\n",
    "    \n",
    "    train_loss = mean(train_losses)\n",
    "    val_loss = mean(val_losses)\n",
    "    history.append((epoch, train_loss, val_loss))\n",
    "    if (epoch) % 10 == 0 or epoch == epochs - 1:\n",
    "        print(f'{epoch+1}/{epochs}: {train_loss=}, {val_loss=}')\n",
    "\n",
    "with torch.no_grad():\n",
    "    test_losses = list()\n",
    "    for (sample, _) in test_loader:\n",
    "        sample = sample.to(device)\n",
    "        _, reconstruction = model_ae(sample)\n",
    "        loss = loss_func(reconstruction, sample)\n",
    "        test_losses.append(loss)\n",
    "    test_loss = mean(test_losses)"
   ]
  }
 ],
 "metadata": {
  "kernelspec": {
   "display_name": "venv",
   "language": "python",
   "name": "python3"
  },
  "language_info": {
   "codemirror_mode": {
    "name": "ipython",
    "version": 3
   },
   "file_extension": ".py",
   "mimetype": "text/x-python",
   "name": "python",
   "nbconvert_exporter": "python",
   "pygments_lexer": "ipython3",
   "version": "3.9.13"
  },
  "orig_nbformat": 4
 },
 "nbformat": 4,
 "nbformat_minor": 2
}
