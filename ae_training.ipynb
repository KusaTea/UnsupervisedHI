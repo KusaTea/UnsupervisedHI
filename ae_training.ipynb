{
 "cells": [
  {
   "cell_type": "code",
   "execution_count": 1,
   "metadata": {},
   "outputs": [],
   "source": [
    "import torch\n",
    "from torch import nn, optim\n",
    "from torch.utils.data import DataLoader\n",
    "from statistics import mean\n",
    "\n",
    "import numpy as np\n",
    "import pandas as pd\n",
    "import matplotlib.pyplot as plt\n",
    "import seaborn as sns\n",
    "\n",
    "from custom_classes import NasaDataset, SimpleAE, split_dataset, fix_seeds\n",
    "from ae_metrics import MAPE\n",
    "from rul_metrics import RMSELoss\n",
    "from normalisation import standard_scaling, min_max_scaling\n",
    "\n",
    "import os\n",
    "import time"
   ]
  },
  {
   "cell_type": "code",
   "execution_count": 2,
   "metadata": {},
   "outputs": [
    {
     "name": "stdout",
     "output_type": "stream",
     "text": [
      "device='cuda'\n"
     ]
    }
   ],
   "source": [
    "device = \"cuda\" if torch.cuda.is_available() else \"cpu\"\n",
    "print(f'{device=}')"
   ]
  },
  {
   "cell_type": "markdown",
   "metadata": {},
   "source": [
    "### Training"
   ]
  },
  {
   "cell_type": "code",
   "execution_count": 3,
   "metadata": {},
   "outputs": [
    {
     "name": "stdout",
     "output_type": "stream",
     "text": [
      "Train: 13723\n",
      "Validation: 4840\n",
      "Test: 2068\n"
     ]
    }
   ],
   "source": [
    "train_dataset = NasaDataset('../datasets/clean_train_data.csv')\n",
    "fix_seeds(37)\n",
    "train_dataset, test_dataset = split_dataset(train_dataset, test_size=0.1)\n",
    "fix_seeds(37)\n",
    "train_dataset, val_dataset = split_dataset(train_dataset, test_size=0.3)\n",
    "# test_dataset = NasaDataset('../datasets/test.csv')\n",
    "\n",
    "norm_func = min_max_scaling\n",
    "try:\n",
    "    norm_name = repr(norm_func).split(' ', maxsplit=2)[1]\n",
    "except IndexError:\n",
    "    norm_name = 'no_scaling'\n",
    "for dtset in (train_dataset, val_dataset, test_dataset):\n",
    "    dtset.to(device)\n",
    "    if norm_func:\n",
    "        norm_func(dtset)\n",
    "\n",
    "fix_seeds(37)\n",
    "train_loader = DataLoader(train_dataset, batch_size=20, shuffle=True)\n",
    "fix_seeds(37)\n",
    "test_loader = DataLoader(val_dataset, batch_size=20, shuffle=True)\n",
    "fix_seeds(37)\n",
    "val_loader = DataLoader(train_dataset, batch_size=20, shuffle=True)\n",
    "# test_loader = DataLoader(test_dataset, batch_size=..., shuffle=...)\n",
    "print(f'Train: {len(train_dataset)}\\nValidation: {len(val_dataset)}\\nTest: {len(test_dataset)}')\n",
    "\n",
    "input_shape = train_dataset.get_input_shape()\n",
    "layers_sizes = (8, 4, 2)\n",
    "\n",
    "model_ae = SimpleAE(input_shape, layers_sizes).to(device)\n",
    "loss_func = nn.MSELoss()\n",
    "metric_func = MAPE()\n",
    "optimiser = optim.Adam(model_ae.parameters(),\n",
    "                       lr=1e-3)"
   ]
  },
  {
   "cell_type": "code",
   "execution_count": 4,
   "metadata": {},
   "outputs": [],
   "source": [
    "def plot_history(history_df: pd.DataFrame, ylabel: str = None, save_path: str = None):\n",
    "    history_df = history_df.melt(ignore_index=False).iloc[1:]\n",
    "    fig, ax = plt.subplots()\n",
    "    fig.set_size_inches(10, 5)\n",
    "    sns.lineplot(data=history_df,\n",
    "                x=history_df.index,\n",
    "                y='value',\n",
    "                hue='variable')\n",
    "\n",
    "    ax.set_ylabel(ylabel)\n",
    "\n",
    "    plt.tight_layout()\n",
    "    if save_path:\n",
    "        plt.savefig(save_path)\n",
    "    plt.show()"
   ]
  },
  {
   "cell_type": "code",
   "execution_count": 5,
   "metadata": {},
   "outputs": [],
   "source": [
    "def check_path(pth):\n",
    "    if not os.path.exists(pth):\n",
    "        os.makedirs(pth)\n",
    "    return pth"
   ]
  },
  {
   "cell_type": "code",
   "execution_count": 6,
   "metadata": {},
   "outputs": [
    {
     "name": "stdout",
     "output_type": "stream",
     "text": [
      " 10/100: train_loss=0.0067, val_loss=0.0066, train_metrics=inf%, val_metrics=inf%\n",
      " 20/100: train_loss=0.0061, val_loss=0.0061, train_metrics=inf%, val_metrics=inf%\n",
      " 30/100: train_loss=0.0059, val_loss=0.0059, train_metrics=inf%, val_metrics=inf%\n",
      " 40/100: train_loss=0.0059, val_loss=0.0059, train_metrics=inf%, val_metrics=inf%\n",
      " 50/100: train_loss=0.0059, val_loss=0.0059, train_metrics=inf%, val_metrics=inf%\n"
     ]
    }
   ],
   "source": [
    "epochs = 100\n",
    "history = list()\n",
    "\n",
    "for epoch in range(epochs):\n",
    "    train_losses = list()\n",
    "    train_metrics = list()\n",
    "    for dta in train_loader:\n",
    "        sample = dta['sensors']\n",
    "        sample = sample.to(device)\n",
    "        _, reconstruction = model_ae(sample)\n",
    "\n",
    "        loss = loss_func(reconstruction, sample)\n",
    "        metric = metric_func(reconstruction, sample)\n",
    "\n",
    "        optimiser.zero_grad()\n",
    "        loss.backward()\n",
    "        optimiser.step()\n",
    "\n",
    "        train_losses.append(loss.item())\n",
    "        train_metrics.append(metric.item())\n",
    "    \n",
    "    with torch.no_grad():\n",
    "        val_losses = list()\n",
    "        val_metrics = list()\n",
    "        for dta in val_loader:\n",
    "            sample = dta['sensors']\n",
    "            sample = sample.to(device)\n",
    "            _, reconstruction = model_ae(sample)\n",
    "\n",
    "            loss = loss_func(reconstruction, sample)\n",
    "            metric = metric_func(reconstruction, sample)\n",
    "\n",
    "            val_losses.append(loss.item())\n",
    "            val_metrics.append(metric.item())\n",
    "    \n",
    "    train_loss, val_loss = mean(train_losses), mean(val_losses)\n",
    "    train_metrics, val_metrics = mean(train_metrics), mean(val_metrics)\n",
    "    history.append((epoch, train_loss, val_loss, train_metrics, val_metrics))\n",
    "    if (epoch + 1) % 10 == 0 or epoch == epochs - 1:\n",
    "        print(f'{epoch+1:>3}/{epochs:>3}: {train_loss=:.4f}, {val_loss=:.4f}, {train_metrics=:.4f}%, {val_metrics=:.4f}%')\n",
    "\n",
    "with torch.no_grad():\n",
    "    test_losses = list()\n",
    "    test_metrics = list()\n",
    "    for sample in test_loader:\n",
    "        sample = dta['sensors']\n",
    "        sample = sample.to(device)\n",
    "        _, reconstruction = model_ae(sample)\n",
    "        loss = loss_func(reconstruction, sample)\n",
    "        metric = metric_func(reconstruction, sample)\n",
    "        test_losses.append(loss.item())\n",
    "        test_metrics.append(metric.item())\n",
    "    test_loss = mean(test_losses)\n",
    "    test_metrics = mean(test_metrics)\n",
    "    print(f'\\n{test_loss=:.4f}, {test_metrics=:.4f}%')\n",
    "\n",
    "\n",
    "# -------------------------------------------------- #\n",
    "name = str(layers_sizes)\n",
    "models_path = '../Models/'\n",
    "plot_path = '../Plots/history/'\n",
    "\n",
    "\n",
    "if True:\n",
    "    pth = check_path(os.path.join(models_path, norm_name))\n",
    "    torch.save(model_ae.state_dict(), os.path.join(pth, f'{name}.pth'))\n",
    "\n",
    "if True:\n",
    "    columns = ('epoch', 'train_loss', 'val_loss', 'train_metric', 'val_metric')\n",
    "    total_history_df = pd.DataFrame(history, columns=columns).set_index('epoch')\n",
    "\n",
    "    history_df = total_history_df.loc[:,('train_loss', 'val_loss')]\n",
    "    pth = check_path(os.path.join(plot_path, 'loss', norm_name))\n",
    "    plot_history(history_df, ylabel='RMSE', save_path=os.path.join(pth, f'{name}.png'))\n",
    "\n",
    "    pth = check_path(os.path.join(plot_path, 'metric', norm_name))\n",
    "    history_df = total_history_df.loc[:,('train_metric', 'val_metric')]\n",
    "    plot_history(history_df, ylabel='MAPE', save_path=os.path.join(pth, f'{name}.png'))"
   ]
  }
 ],
 "metadata": {
  "kernelspec": {
   "display_name": "venv",
   "language": "python",
   "name": "python3"
  },
  "language_info": {
   "codemirror_mode": {
    "name": "ipython",
    "version": 3
   },
   "file_extension": ".py",
   "mimetype": "text/x-python",
   "name": "python",
   "nbconvert_exporter": "python",
   "pygments_lexer": "ipython3",
   "version": "3.9.13"
  },
  "orig_nbformat": 4
 },
 "nbformat": 4,
 "nbformat_minor": 2
}
