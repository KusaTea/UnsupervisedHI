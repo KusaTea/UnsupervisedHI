{
 "cells": [
  {
   "cell_type": "code",
   "execution_count": 10,
   "metadata": {},
   "outputs": [],
   "source": [
    "import torch\n",
    "from torch import nn, optim\n",
    "from torch.utils.data import DataLoader\n",
    "from statistics import mean\n",
    "\n",
    "from custom_classes import NasaDataset, SimpleAE, split_dataset, fix_seeds"
   ]
  },
  {
   "cell_type": "code",
   "execution_count": 11,
   "metadata": {},
   "outputs": [
    {
     "name": "stdout",
     "output_type": "stream",
     "text": [
      "device='cuda'\n"
     ]
    }
   ],
   "source": [
    "device = \"cuda\" if torch.cuda.is_available() else \"cpu\"\n",
    "print(f'{device=}')"
   ]
  },
  {
   "cell_type": "markdown",
   "metadata": {},
   "source": [
    "### Training"
   ]
  },
  {
   "cell_type": "code",
   "execution_count": 12,
   "metadata": {},
   "outputs": [
    {
     "name": "stdout",
     "output_type": "stream",
     "text": [
      "Train: 13723\n",
      "Validation: 4840\n",
      "Test: 2068\n"
     ]
    }
   ],
   "source": [
    "train_dataset = NasaDataset('../datasets/clean_train_data.csv')\n",
    "fix_seeds(37)\n",
    "train_dataset, test_dataset = split_dataset(train_dataset, test_size=0.1)\n",
    "fix_seeds(37)\n",
    "train_dataset, val_dataset = split_dataset(train_dataset, test_size=0.3)\n",
    "# test_dataset = NasaDataset('../datasets/test.csv')\n",
    "\n",
    "fix_seeds(37)\n",
    "train_dataset.to(device)\n",
    "train_loader = DataLoader(train_dataset, batch_size=20, shuffle=True)\n",
    "fix_seeds(37)\n",
    "test_dataset.to(device)\n",
    "test_loader = DataLoader(val_dataset, batch_size=20, shuffle=True)\n",
    "fix_seeds(37)\n",
    "val_dataset.to(device)\n",
    "val_loader = DataLoader(train_dataset, batch_size=20, shuffle=True)\n",
    "# test_loader = DataLoader(test_dataset, batch_size=..., shuffle=...)\n",
    "print(f'Train: {len(train_dataset)}\\nValidation: {len(val_dataset)}\\nTest: {len(test_dataset)}')\n",
    "\n",
    "input_shape = train_dataset.get_input_shape()\n",
    "layers_sizes = (10, 5, 2)\n",
    "\n",
    "model_ae = SimpleAE(input_shape, layers_sizes).to(device)\n",
    "loss_func = nn.MSELoss()\n",
    "optimiser = optim.Adam(model_ae.parameters(),\n",
    "                       lr=1e-3)"
   ]
  },
  {
   "cell_type": "code",
   "execution_count": 13,
   "metadata": {},
   "outputs": [
    {
     "name": "stdout",
     "output_type": "stream",
     "text": [
      "1/100: train_loss=9191527.774381367, val_loss=9161167.890829694\n",
      "11/100: train_loss=330.76452005933294, val_loss=312.93900405683894\n",
      "21/100: train_loss=312.34488664652065, val_loss=312.04952779711596\n",
      "31/100: train_loss=313.08681269261166, val_loss=315.1933172411967\n",
      "41/100: train_loss=314.1661903125924, val_loss=312.0009934315688\n",
      "51/100: train_loss=312.7718149598856, val_loss=312.67325780832437\n",
      "61/100: train_loss=313.0810111655245, val_loss=315.82958942174565\n",
      "71/100: train_loss=312.86564441886355, val_loss=313.55725058787425\n",
      "81/100: train_loss=313.1939313019554, val_loss=311.9957031627583\n",
      "91/100: train_loss=312.87294622696123, val_loss=312.4889407539645\n",
      "100/100: train_loss=312.9467437166661, val_loss=315.7480779922685\n"
     ]
    }
   ],
   "source": [
    "epochs = 100\n",
    "history = list()\n",
    "\n",
    "for epoch in range(epochs):\n",
    "    train_losses = list()\n",
    "    for dta in train_loader:\n",
    "        sample = dta['sensors']\n",
    "        sample = sample.to(device)\n",
    "        _, reconstruction = model_ae(sample)\n",
    "\n",
    "        loss = loss_func(reconstruction, sample)\n",
    "\n",
    "        optimiser.zero_grad()\n",
    "        loss.backward()\n",
    "        optimiser.step()\n",
    "\n",
    "        train_losses.append(loss.item())\n",
    "    \n",
    "    with torch.no_grad():\n",
    "        val_losses = list()\n",
    "        for dta in val_loader:\n",
    "            sample = dta['sensors']\n",
    "            sample = sample.to(device)\n",
    "            _, reconstruction = model_ae(sample)\n",
    "            loss = loss_func(reconstruction, sample)\n",
    "            val_losses.append(loss.item())\n",
    "    \n",
    "    train_loss = mean(train_losses)\n",
    "    val_loss = mean(val_losses)\n",
    "    history.append((epoch, train_loss, val_loss))\n",
    "    if (epoch + 1) % 10 == 0 or epoch == epochs - 1:\n",
    "        print(f'{epoch+1:>3}/{epochs:>3}: {train_loss=}, {val_loss=}')\n",
    "\n",
    "with torch.no_grad():\n",
    "    test_losses = list()\n",
    "    for sample in test_loader:\n",
    "        sample = dta['sensors']\n",
    "        sample = sample.to(device)\n",
    "        _, reconstruction = model_ae(sample)\n",
    "        loss = loss_func(reconstruction, sample)\n",
    "        test_losses.append(loss.item())\n",
    "    test_loss = mean(test_losses)"
   ]
  },
  {
   "cell_type": "code",
   "execution_count": 17,
   "metadata": {},
   "outputs": [
    {
     "data": {
      "text/plain": [
       "181.62550354003906"
      ]
     },
     "execution_count": 17,
     "metadata": {},
     "output_type": "execute_result"
    }
   ],
   "source": [
    "test_loss"
   ]
  }
 ],
 "metadata": {
  "kernelspec": {
   "display_name": "venv",
   "language": "python",
   "name": "python3"
  },
  "language_info": {
   "codemirror_mode": {
    "name": "ipython",
    "version": 3
   },
   "file_extension": ".py",
   "mimetype": "text/x-python",
   "name": "python",
   "nbconvert_exporter": "python",
   "pygments_lexer": "ipython3",
   "version": "3.9.13"
  },
  "orig_nbformat": 4
 },
 "nbformat": 4,
 "nbformat_minor": 2
}
