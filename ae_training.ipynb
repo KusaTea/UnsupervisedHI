{
 "cells": [
  {
   "cell_type": "code",
   "execution_count": 2,
   "metadata": {},
   "outputs": [],
   "source": [
    "import torch\n",
    "from torch import nn, optim\n",
    "from torch.utils.data import DataLoader\n",
    "from statistics import mean\n",
    "\n",
    "from custom_classes import NasaDataset, SimpleAE"
   ]
  },
  {
   "cell_type": "code",
   "execution_count": null,
   "metadata": {},
   "outputs": [],
   "source": [
    "device = \"cuda\" if torch.cuda.is_available() else \"cpu\"\n",
    "print(f'{device=}')"
   ]
  },
  {
   "cell_type": "markdown",
   "metadata": {},
   "source": [
    "### Training"
   ]
  },
  {
   "cell_type": "code",
   "execution_count": null,
   "metadata": {},
   "outputs": [],
   "source": [
    "train_dataset = NasaDataset('../datasets/train.csv')\n",
    "test_dataset = NasaDataset('../datasets/test.csv')\n",
    "\n",
    "train_loader = DataLoader(train_dataset, batch_size=..., shuffle=...)\n",
    "test_loader = DataLoader(test_dataset, batch_size=..., shuffle=...)\n",
    "\n",
    "input_shape = train_dataset.get_input_shape()\n",
    "layers_sizes = (..., ..., ...)\n",
    "\n",
    "model_ae = SimpleAE(input_shape, layers_sizes)\n",
    "loss_func = nn.MSELoss()\n",
    "optimiser = optim.Adam(model_ae.parameters(),\n",
    "                       lr=1e-3)"
   ]
  },
  {
   "cell_type": "code",
   "execution_count": null,
   "metadata": {},
   "outputs": [],
   "source": [
    "epochs = ...\n",
    "history = list()\n",
    "\n",
    "for epoch in range(epochs):\n",
    "    train_losses = list()\n",
    "    for (sample, _) in train_loader:\n",
    "        sample = sample.to(device)\n",
    "        _, reconstruction = model_ae(sample)\n",
    "\n",
    "        loss = loss_func(reconstruction, sample)\n",
    "\n",
    "        optimiser.zero_grad()\n",
    "        loss.backward()\n",
    "        optimiser.step()\n",
    "\n",
    "        train_losses.append(loss)\n",
    "    \n",
    "    with torch.no_grad():\n",
    "        test_losses = list()\n",
    "        for (sample, _) in test_loader:\n",
    "            sample = sample.to(device)\n",
    "            _, reconstruction = model_ae(sample)\n",
    "            loss = loss_func(reconstruction, sample)\n",
    "            test_losses.append(loss)\n",
    "    \n",
    "    history.append((epoch, mean(train_losses), mean(test_losses)))"
   ]
  }
 ],
 "metadata": {
  "kernelspec": {
   "display_name": "venv",
   "language": "python",
   "name": "python3"
  },
  "language_info": {
   "codemirror_mode": {
    "name": "ipython",
    "version": 3
   },
   "file_extension": ".py",
   "mimetype": "text/x-python",
   "name": "python",
   "nbconvert_exporter": "python",
   "pygments_lexer": "ipython3",
   "version": "3.9.13"
  },
  "orig_nbformat": 4
 },
 "nbformat": 4,
 "nbformat_minor": 2
}
