{
 "cells": [
  {
   "cell_type": "code",
   "execution_count": 2,
   "metadata": {},
   "outputs": [],
   "source": [
    "import torch\n",
    "from torch import nn, optim\n",
    "from statistics import mean"
   ]
  },
  {
   "cell_type": "code",
   "execution_count": null,
   "metadata": {},
   "outputs": [],
   "source": [
    "device = \"cuda\" if torch.cuda.is_available() else \"cpu\"\n",
    "print(f'{device=}')"
   ]
  },
  {
   "cell_type": "markdown",
   "metadata": {},
   "source": [
    "### Model"
   ]
  },
  {
   "cell_type": "code",
   "execution_count": null,
   "metadata": {},
   "outputs": [],
   "source": [
    "class SimpleAE(nn.Module):\n",
    "\n",
    "    def __init__(self):\n",
    "        super(SimpleAE, self).__init__()\n",
    "        self.encoder = nn.Sequential(\n",
    "            nn.Linear(in_features=21, out_features=...),\n",
    "            nn.SiLU(),\n",
    "            nn.Linear(in_features=..., out_features=...),\n",
    "            nn.SiLU(),\n",
    "            nn.Linear(in_features=..., out_features=...)\n",
    "        )\n",
    "\n",
    "        self.decoder = nn.Sequential(\n",
    "            nn.Linear(in_features=..., out_features=...),\n",
    "            nn.SiLU(in_features=..., out_features=...),\n",
    "            nn.Linear(in_features=..., out_features=...),\n",
    "            nn.SiLU(),\n",
    "            nn.Linear(in_features=..., out_features=21)\n",
    "        )\n",
    "    \n",
    "    def forward(self, x):\n",
    "        encoded = self.encoder(x)\n",
    "        decoded = self.decoder(encoded)\n",
    "        return encoded, decoded"
   ]
  },
  {
   "cell_type": "markdown",
   "metadata": {},
   "source": [
    "### Training"
   ]
  },
  {
   "cell_type": "code",
   "execution_count": null,
   "metadata": {},
   "outputs": [],
   "source": [
    "model_ae = SimpleAE()\n",
    "loss_func = nn.MSELoss()\n",
    "optimiser = optim.Adam(model_ae.parameters(),\n",
    "                       lr=1e-3)\n",
    "\n",
    "train_loader = ...\n",
    "test_loader = ..."
   ]
  },
  {
   "cell_type": "code",
   "execution_count": null,
   "metadata": {},
   "outputs": [],
   "source": [
    "epochs = ...\n",
    "history = list()\n",
    "\n",
    "for epoch in range(epochs):\n",
    "    train_losses = list()\n",
    "    for (sample, _) in train_loader:\n",
    "        sample = sample.to(device)\n",
    "        _, reconstruction = model_ae(sample)\n",
    "\n",
    "        loss = loss_func(reconstruction, sample)\n",
    "\n",
    "        optimiser.zero_grad()\n",
    "        loss.backward()\n",
    "        optimiser.step()\n",
    "\n",
    "        train_losses.append(loss)\n",
    "    \n",
    "    with torch.no_grad():\n",
    "        test_losses = list()\n",
    "        for (sample, _) in test_loader:\n",
    "            sample = sample.to(device)\n",
    "            _, reconstruction = model_ae(sample)\n",
    "            loss = loss_func(reconstruction, sample)\n",
    "            test_losses.append(loss)\n",
    "    \n",
    "    history.append((epoch, mean(train_losses), mean(test_losses)))"
   ]
  }
 ],
 "metadata": {
  "kernelspec": {
   "display_name": "venv",
   "language": "python",
   "name": "python3"
  },
  "language_info": {
   "codemirror_mode": {
    "name": "ipython",
    "version": 3
   },
   "file_extension": ".py",
   "mimetype": "text/x-python",
   "name": "python",
   "nbconvert_exporter": "python",
   "pygments_lexer": "ipython3",
   "version": "3.9.13"
  },
  "orig_nbformat": 4
 },
 "nbformat": 4,
 "nbformat_minor": 2
}
